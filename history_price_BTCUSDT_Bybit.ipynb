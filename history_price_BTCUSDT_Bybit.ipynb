{
  "nbformat": 4,
  "nbformat_minor": 0,
  "metadata": {
    "colab": {
      "provenance": [],
      "authorship_tag": "ABX9TyNS8bsbIO816TVmItFNw5rJ",
      "include_colab_link": true
    },
    "kernelspec": {
      "name": "python3",
      "display_name": "Python 3"
    },
    "language_info": {
      "name": "python"
    }
  },
  "cells": [
    {
      "cell_type": "markdown",
      "metadata": {
        "id": "view-in-github",
        "colab_type": "text"
      },
      "source": [
        "<a href=\"https://colab.research.google.com/github/MishaShapka/Episode/blob/master/history_price_BTCUSDT_Bybit.ipynb\" target=\"_parent\"><img src=\"https://colab.research.google.com/assets/colab-badge.svg\" alt=\"Open In Colab\"/></a>"
      ]
    },
    {
      "cell_type": "code",
      "source": [
        "pip install ccxt"
      ],
      "metadata": {
        "id": "UiXJFCzqCEi4"
      },
      "execution_count": null,
      "outputs": []
    },
    {
      "cell_type": "code",
      "source": [
        "import ccxt\n",
        "\n",
        "bybit = ccxt.bybit()\n",
        "symbol = 'ETH/USDT'\n",
        "timeframe = '1m'\n",
        "since = bybit.parse8601('2021-01-01T00:00:00Z')\n",
        "\n",
        "# Получение исторических данных\n",
        "ohlcv = bybit.fetch_ohlcv(symbol, timeframe, since)\n",
        "for candle in ohlcv:\n",
        "    print(bybit.iso8601(candle[0]), candle[1:])"
      ],
      "metadata": {
        "id": "JPeqzq5QCKZf"
      },
      "execution_count": null,
      "outputs": []
    }
  ]
}